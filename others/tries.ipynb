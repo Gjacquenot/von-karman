{
 "cells": [
  {
   "cell_type": "code",
   "execution_count": 2,
   "metadata": {},
   "outputs": [],
   "source": [
    "import numpy as np\n",
    "import scipy.sparse as sp\n",
    "import scipy.sparse.linalg as lg"
   ]
  },
  {
   "cell_type": "code",
   "execution_count": 4,
   "metadata": {},
   "outputs": [
    {
     "data": {
      "text/plain": [
       "array([0.1, 0.2, 0.3, 0.4, 0.5, 0.6, 0.7, 0.8, 0.9, 1. ])"
      ]
     },
     "execution_count": 4,
     "metadata": {},
     "output_type": "execute_result"
    }
   ],
   "source": [
    "np.linspace(0.1, 1.0, 10)"
   ]
  },
  {
   "cell_type": "code",
   "execution_count": 5,
   "metadata": {},
   "outputs": [],
   "source": [
    "Lx = 2.0\n",
    "Ly = 1.0\n",
    "nx = 8\n",
    "ny = 5\n",
    "dx = Lx / nx\n",
    "dy = Ly / ny\n",
    "\n",
    "\n",
    "X = np.linspace(dx/2, Lx - dx/2, nx)\n",
    "Y = np.linspace(dy/2, Ly - dy/2, ny)\n",
    "X, Y = np.meshgrid(X, Y, indexing='ij')"
   ]
  },
  {
   "cell_type": "code",
   "execution_count": 6,
   "metadata": {},
   "outputs": [
    {
     "data": {
      "text/plain": [
       "array([[0.125, 0.125, 0.125, 0.125, 0.125],\n",
       "       [0.375, 0.375, 0.375, 0.375, 0.375],\n",
       "       [0.625, 0.625, 0.625, 0.625, 0.625],\n",
       "       [0.875, 0.875, 0.875, 0.875, 0.875],\n",
       "       [1.125, 1.125, 1.125, 1.125, 1.125],\n",
       "       [1.375, 1.375, 1.375, 1.375, 1.375],\n",
       "       [1.625, 1.625, 1.625, 1.625, 1.625],\n",
       "       [1.875, 1.875, 1.875, 1.875, 1.875]])"
      ]
     },
     "execution_count": 6,
     "metadata": {},
     "output_type": "execute_result"
    }
   ],
   "source": [
    "X"
   ]
  },
  {
   "cell_type": "code",
   "execution_count": 7,
   "metadata": {},
   "outputs": [
    {
     "data": {
      "text/plain": [
       "array([[0.1, 0.3, 0.5, 0.7, 0.9],\n",
       "       [0.1, 0.3, 0.5, 0.7, 0.9],\n",
       "       [0.1, 0.3, 0.5, 0.7, 0.9],\n",
       "       [0.1, 0.3, 0.5, 0.7, 0.9],\n",
       "       [0.1, 0.3, 0.5, 0.7, 0.9],\n",
       "       [0.1, 0.3, 0.5, 0.7, 0.9],\n",
       "       [0.1, 0.3, 0.5, 0.7, 0.9],\n",
       "       [0.1, 0.3, 0.5, 0.7, 0.9]])"
      ]
     },
     "execution_count": 7,
     "metadata": {},
     "output_type": "execute_result"
    }
   ],
   "source": [
    "Y"
   ]
  },
  {
   "cell_type": "code",
   "execution_count": 9,
   "metadata": {},
   "outputs": [
    {
     "data": {
      "text/plain": [
       "0.125"
      ]
     },
     "execution_count": 9,
     "metadata": {},
     "output_type": "execute_result"
    }
   ],
   "source": [
    "X[0,2]"
   ]
  },
  {
   "cell_type": "code",
   "execution_count": 2,
   "metadata": {},
   "outputs": [],
   "source": [
    "import numpy as np\n",
    "import numpy.linalg as la"
   ]
  },
  {
   "cell_type": "code",
   "execution_count": 11,
   "metadata": {},
   "outputs": [],
   "source": [
    "# matrix 5x5 o 1,2,3,4,5,... entries\n",
    "A = np.arange(1, 37).reshape(6,6) + 15*np.eye(6)\n",
    "A = A + A.T"
   ]
  },
  {
   "cell_type": "code",
   "execution_count": 12,
   "metadata": {},
   "outputs": [
    {
     "data": {
      "text/plain": [
       "array([[ 32.,   9.,  16.,  23.,  30.,  37.],\n",
       "       [  9.,  46.,  23.,  30.,  37.,  44.],\n",
       "       [ 16.,  23.,  60.,  37.,  44.,  51.],\n",
       "       [ 23.,  30.,  37.,  74.,  51.,  58.],\n",
       "       [ 30.,  37.,  44.,  51.,  88.,  65.],\n",
       "       [ 37.,  44.,  51.,  58.,  65., 102.]])"
      ]
     },
     "execution_count": 12,
     "metadata": {},
     "output_type": "execute_result"
    }
   ],
   "source": [
    "A"
   ]
  },
  {
   "cell_type": "code",
   "execution_count": 13,
   "metadata": {},
   "outputs": [
    {
     "data": {
      "text/plain": [
       "EigResult(eigenvalues=array([273.15899515,   8.84100485,  30.        ,  30.        ,\n",
       "        30.        ,  30.        ]), eigenvectors=array([[-0.22248207, -0.68870259,  0.69006556,  0.26188144, -0.0450919 ,\n",
       "         0.0419126 ],\n",
       "       [-0.29011608, -0.45942438, -0.55205245,  0.06935337,  0.15494834,\n",
       "        -0.38682531],\n",
       "       [-0.35775008, -0.23014617, -0.34503278, -0.19190631, -0.60587697,\n",
       "         0.54836158],\n",
       "       [-0.42538409, -0.00086796, -0.13801311, -0.19269892,  0.75476784,\n",
       "         0.1770835 ],\n",
       "       [-0.4930181 ,  0.22841026,  0.06900656, -0.62570391, -0.08623862,\n",
       "        -0.66151351],\n",
       "       [-0.56065211,  0.45768847,  0.27602622,  0.67907433, -0.17250869,\n",
       "         0.28098114]]))"
      ]
     },
     "execution_count": 13,
     "metadata": {},
     "output_type": "execute_result"
    }
   ],
   "source": [
    "la.eig(A)"
   ]
  },
  {
   "cell_type": "code",
   "execution_count": 14,
   "metadata": {},
   "outputs": [],
   "source": [
    "b = np.array([1, 2, 3, 4, 5, 6])"
   ]
  },
  {
   "cell_type": "code",
   "execution_count": 15,
   "metadata": {},
   "outputs": [
    {
     "data": {
      "text/plain": [
       "array([-0.11594203, -0.07246377, -0.02898551,  0.01449275,  0.05797101,\n",
       "        0.10144928])"
      ]
     },
     "execution_count": 15,
     "metadata": {},
     "output_type": "execute_result"
    }
   ],
   "source": [
    "la.solve(A, b)"
   ]
  },
  {
   "cell_type": "code",
   "execution_count": 10,
   "metadata": {},
   "outputs": [
    {
     "data": {
      "text/plain": [
       "array([[ 5.65685425,  0.        ,  0.        ,  0.        ,  0.        ,\n",
       "         0.        ],\n",
       "       [ 1.59099026,  6.5930835 ,  0.        ,  0.        ,  0.        ,\n",
       "         0.        ],\n",
       "       [ 2.82842712,  2.80597083,  6.64278012,  0.        ,  0.        ,\n",
       "         0.        ],\n",
       "       [ 4.06586399,  3.56908115,  2.3311418 ,  6.26866714,  0.        ,\n",
       "         0.        ],\n",
       "       [ 5.30330086,  4.33219146,  2.53568488,  1.2864802 ,  5.74651095,\n",
       "         0.        ],\n",
       "       [ 6.54073773,  5.09530177,  2.74022797,  1.08999958, -0.0194797 ,\n",
       "         4.95573628]])"
      ]
     },
     "execution_count": 10,
     "metadata": {},
     "output_type": "execute_result"
    }
   ],
   "source": [
    "la.cholesky(A)"
   ]
  },
  {
   "cell_type": "code",
   "execution_count": null,
   "metadata": {},
   "outputs": [],
   "source": []
  }
 ],
 "metadata": {
  "kernelspec": {
   "display_name": "Python 3",
   "language": "python",
   "name": "python3"
  },
  "language_info": {
   "codemirror_mode": {
    "name": "ipython",
    "version": 3
   },
   "file_extension": ".py",
   "mimetype": "text/x-python",
   "name": "python",
   "nbconvert_exporter": "python",
   "pygments_lexer": "ipython3",
   "version": "3.11.7"
  }
 },
 "nbformat": 4,
 "nbformat_minor": 2
}
